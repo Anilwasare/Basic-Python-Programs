{
 "cells": [
  {
   "cell_type": "code",
   "execution_count": 9,
   "id": "74c85edc",
   "metadata": {},
   "outputs": [
    {
     "name": "stdout",
     "output_type": "stream",
     "text": [
      "nameanil\n",
      "email idanil\n",
      "phone numberanil\n"
     ]
    }
   ],
   "source": [
    "a=['name','email id','phone number']\n",
    "\n",
    "for i in a:\n",
    "    \n",
    "        print(i+'anil')"
   ]
  },
  {
   "cell_type": "code",
   "execution_count": 11,
   "id": "1c649790",
   "metadata": {},
   "outputs": [
    {
     "name": "stdout",
     "output_type": "stream",
     "text": [
      "i\n",
      "n\n",
      "e\n",
      "u\n",
      "r\n",
      "o\n",
      "n\n"
     ]
    }
   ],
   "source": [
    "s='ineuron'\n",
    "\n",
    "for i in s:\n",
    "    print(i)"
   ]
  },
  {
   "cell_type": "code",
   "execution_count": 12,
   "id": "4c61b767",
   "metadata": {},
   "outputs": [
    {
     "data": {
      "text/plain": [
       "['name', 'email id', 'phone number']"
      ]
     },
     "execution_count": 12,
     "metadata": {},
     "output_type": "execute_result"
    }
   ],
   "source": [
    "a"
   ]
  },
  {
   "cell_type": "code",
   "execution_count": 15,
   "id": "215415ad",
   "metadata": {},
   "outputs": [
    {
     "name": "stdout",
     "output_type": "stream",
     "text": [
      "name\n",
      "email id\n",
      "phone number\n",
      "i f for loop is going to complete itself then  it will come to else\n"
     ]
    }
   ],
   "source": [
    "for i in a:\n",
    "    print(i)\n",
    "else:\n",
    "        print(\"i f for loop is going to complete itself then  it will come to else\")"
   ]
  },
  {
   "cell_type": "code",
   "execution_count": 16,
   "id": "fc6840bc",
   "metadata": {},
   "outputs": [
    {
     "data": {
      "text/plain": [
       "['name', 'email id', 'phone number']"
      ]
     },
     "execution_count": 16,
     "metadata": {},
     "output_type": "execute_result"
    }
   ],
   "source": [
    "a"
   ]
  },
  {
   "cell_type": "code",
   "execution_count": 29,
   "id": "02d66514",
   "metadata": {},
   "outputs": [
    {
     "name": "stdout",
     "output_type": "stream",
     "text": [
      "name\n"
     ]
    }
   ],
   "source": [
    "for i in a:\n",
    "    if i=='name':\n",
    "        print(i)\n",
    "        break\n",
    "    else: print('check this statement')"
   ]
  },
  {
   "cell_type": "code",
   "execution_count": 45,
   "id": "4f138f8d",
   "metadata": {},
   "outputs": [
    {
     "name": "stdout",
     "output_type": "stream",
     "text": [
      "don't execute this statement\n"
     ]
    }
   ],
   "source": [
    "s='anil'\n",
    "for i in s:\n",
    "    if i=='anil':\n",
    "        print(i)\n",
    "        break\n",
    "else:\n",
    "    print(\"don't execute this statement\")"
   ]
  },
  {
   "cell_type": "code",
   "execution_count": null,
   "id": "40efb1b4",
   "metadata": {},
   "outputs": [],
   "source": [
    "s"
   ]
  },
  {
   "cell_type": "code",
   "execution_count": 4,
   "id": "89e5c00d",
   "metadata": {},
   "outputs": [],
   "source": [
    "s='anil'\n",
    "for i in s:\n",
    "    if i==\"n\":\n",
    "        break\n",
    "else:\n",
    "    print(\" Do not execute this statement unless print my name\")"
   ]
  },
  {
   "cell_type": "code",
   "execution_count": 8,
   "id": "a47f5960",
   "metadata": {},
   "outputs": [
    {
     "name": "stdout",
     "output_type": "stream",
     "text": [
      "1\n",
      "2\n",
      "3\n",
      "4\n",
      "5\n"
     ]
    }
   ],
   "source": [
    "a=1\n",
    "while a<6:\n",
    "    print(a)\n",
    "    a=a+1"
   ]
  },
  {
   "cell_type": "code",
   "execution_count": 2,
   "id": "174ca931",
   "metadata": {},
   "outputs": [
    {
     "name": "stdout",
     "output_type": "stream",
     "text": [
      "1\n",
      "2\n",
      "3\n",
      "4\n"
     ]
    }
   ],
   "source": [
    "a=1\n",
    "while a<5:\n",
    "    print(a)\n",
    "    if a==4:\n",
    "        break\n",
    "    a=a+1"
   ]
  },
  {
   "cell_type": "code",
   "execution_count": null,
   "id": "e7f17708",
   "metadata": {},
   "outputs": [],
   "source": [
    "a=1\n",
    "while a<5:\n",
    "    if a==3:\n",
    "        continue\n",
    "        print(a)\n",
    "        a=a+1"
   ]
  },
  {
   "cell_type": "code",
   "execution_count": null,
   "id": "1bf25f45",
   "metadata": {},
   "outputs": [],
   "source": [
    "a=1\n",
    "while a<5:\n",
    "    if a==3:\n",
    "        continue\n",
    "        print(a)\n",
    "        a=a+1"
   ]
  },
  {
   "cell_type": "code",
   "execution_count": null,
   "id": "175f6383",
   "metadata": {},
   "outputs": [],
   "source": []
  }
 ],
 "metadata": {
  "kernelspec": {
   "display_name": "Python 3",
   "language": "python",
   "name": "python3"
  },
  "language_info": {
   "codemirror_mode": {
    "name": "ipython",
    "version": 3
   },
   "file_extension": ".py",
   "mimetype": "text/x-python",
   "name": "python",
   "nbconvert_exporter": "python",
   "pygments_lexer": "ipython3",
   "version": "3.6.15"
  }
 },
 "nbformat": 4,
 "nbformat_minor": 5
}
