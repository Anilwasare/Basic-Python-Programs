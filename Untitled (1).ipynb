{
 "cells": [
  {
   "cell_type": "code",
   "execution_count": 3,
   "id": "fff211a3",
   "metadata": {},
   "outputs": [
    {
     "name": "stdout",
     "output_type": "stream",
     "text": [
      "90\n",
      "you will able to buy Bike\n"
     ]
    }
   ],
   "source": [
    "income=int(input())\n",
    "\n",
    "if income>70:\n",
    "    print(\"you will able to buy Bike\")\n",
    "elif income>50:\n",
    "        print(\"you will be able to buy cycle\")\n",
    "else:\n",
    "        print(\"you will not able to buy anything\")"
   ]
  },
  {
   "cell_type": "code",
   "execution_count": 10,
   "id": "d1e2be51",
   "metadata": {},
   "outputs": [
    {
     "name": "stdout",
     "output_type": "stream",
     "text": [
      "DSA\n",
      "work\n",
      " welcome to ineuron, this is course available, please contatct for more details\n",
      "invalid entry\n"
     ]
    }
   ],
   "source": [
    "course=input()\n",
    "service=input()\n",
    "\n",
    "if course==\"DSA\":\n",
    "    print(\" welcome to ineuron, this is course available, please contatct for more details\")\n",
    "elif course==\"Data Sciende\":\n",
    "        print('welcome to ineuron, this is course available, please contatct for more details')\n",
    "else:\n",
    "    print('the course is looking fr is not available,please demand us we will provde you in nxt month')\n",
    "if service==\"workwiths us\":\n",
    "    print(\"you are welcome\")\n",
    "else:\n",
    "    print(\"invalid entry\")"
   ]
  },
  {
   "cell_type": "code",
   "execution_count": 16,
   "id": "6342f8e1",
   "metadata": {},
   "outputs": [
    {
     "name": "stdout",
     "output_type": "stream",
     "text": [
      "anil5\n",
      " you wii be able to get 5% discount\n",
      "you will be able to ine neuron course 6650.0\n"
     ]
    }
   ],
   "source": [
    "coup=input()\n",
    "if coup=='anil5':\n",
    "    print(\" you wii be able to get 5% discount\")\n",
    "    paid_amount=7000-7000*0.05\n",
    "    print(\"you will be able to ine neuron course\",paid_amount)\n",
    "else:\n",
    "    print(\"invalid coupon\")"
   ]
  },
  {
   "cell_type": "code",
   "execution_count": null,
   "id": "bb5a8d3f",
   "metadata": {},
   "outputs": [],
   "source": []
  }
 ],
 "metadata": {
  "kernelspec": {
   "display_name": "Python 3",
   "language": "python",
   "name": "python3"
  },
  "language_info": {
   "codemirror_mode": {
    "name": "ipython",
    "version": 3
   },
   "file_extension": ".py",
   "mimetype": "text/x-python",
   "name": "python",
   "nbconvert_exporter": "python",
   "pygments_lexer": "ipython3",
   "version": "3.6.13"
  }
 },
 "nbformat": 4,
 "nbformat_minor": 5
}
