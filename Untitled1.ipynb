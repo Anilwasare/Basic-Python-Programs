{
 "cells": [
  {
   "cell_type": "code",
   "execution_count": 1,
   "id": "7d8c2d6c",
   "metadata": {},
   "outputs": [],
   "source": [
    "a=\"My name is anil wasare, I'm from india\""
   ]
  },
  {
   "cell_type": "code",
   "execution_count": 2,
   "id": "dc19b025",
   "metadata": {},
   "outputs": [
    {
     "data": {
      "text/plain": [
       "\"My name is anil wasare, I'm from india\""
      ]
     },
     "execution_count": 2,
     "metadata": {},
     "output_type": "execute_result"
    }
   ],
   "source": [
    "a"
   ]
  },
  {
   "cell_type": "code",
   "execution_count": 3,
   "id": "b72b0c09",
   "metadata": {},
   "outputs": [
    {
     "data": {
      "text/plain": [
       "\"mY NAME IS ANIL WASARE, i'M FROM INDIA\""
      ]
     },
     "execution_count": 3,
     "metadata": {},
     "output_type": "execute_result"
    }
   ],
   "source": [
    "a.swapcase()"
   ]
  },
  {
   "cell_type": "code",
   "execution_count": 4,
   "id": "20659991",
   "metadata": {},
   "outputs": [
    {
     "data": {
      "text/plain": [
       "\"My Name Is Anil Wasare, I'M From India\""
      ]
     },
     "execution_count": 4,
     "metadata": {},
     "output_type": "execute_result"
    }
   ],
   "source": [
    "a.title()"
   ]
  },
  {
   "cell_type": "code",
   "execution_count": 5,
   "id": "b04566fa",
   "metadata": {},
   "outputs": [
    {
     "data": {
      "text/plain": [
       "\"My name is anil wasare, I'm from india\""
      ]
     },
     "execution_count": 5,
     "metadata": {},
     "output_type": "execute_result"
    }
   ],
   "source": [
    "a.rstrip()"
   ]
  },
  {
   "cell_type": "code",
   "execution_count": 6,
   "id": "f78203b0",
   "metadata": {},
   "outputs": [
    {
     "data": {
      "text/plain": [
       "\"My name is anil wasare, I'm from india\""
      ]
     },
     "execution_count": 6,
     "metadata": {},
     "output_type": "execute_result"
    }
   ],
   "source": [
    "a.lstrip()"
   ]
  },
  {
   "cell_type": "code",
   "execution_count": 7,
   "id": "cc56045a",
   "metadata": {},
   "outputs": [
    {
     "data": {
      "text/plain": [
       "\"######My name is anil wasare, I'm from india######\""
      ]
     },
     "execution_count": 7,
     "metadata": {},
     "output_type": "execute_result"
    }
   ],
   "source": [
    "a.center(50, '#')"
   ]
  },
  {
   "cell_type": "code",
   "execution_count": null,
   "id": "2b129b84",
   "metadata": {},
   "outputs": [],
   "source": [
    "'ANil'*3"
   ]
  },
  {
   "cell_type": "code",
   "execution_count": 9,
   "id": "d6149176",
   "metadata": {},
   "outputs": [
    {
     "data": {
      "text/plain": [
       "'anilwasare'"
      ]
     },
     "execution_count": 9,
     "metadata": {},
     "output_type": "execute_result"
    }
   ],
   "source": [
    "'anil'+'wasare'"
   ]
  },
  {
   "cell_type": "code",
   "execution_count": 10,
   "id": "197086cd",
   "metadata": {},
   "outputs": [
    {
     "data": {
      "text/plain": [
       "\"My name is anil wasare, i'm from india\""
      ]
     },
     "execution_count": 10,
     "metadata": {},
     "output_type": "execute_result"
    }
   ],
   "source": [
    "a.capitalize()"
   ]
  },
  {
   "cell_type": "code",
   "execution_count": 11,
   "id": "26d50cc6",
   "metadata": {},
   "outputs": [
    {
     "data": {
      "text/plain": [
       "\"my name is anil wasare, i'm from india\""
      ]
     },
     "execution_count": 11,
     "metadata": {},
     "output_type": "execute_result"
    }
   ],
   "source": [
    "a.casefold()"
   ]
  },
  {
   "cell_type": "code",
   "execution_count": 12,
   "id": "76a2ed59",
   "metadata": {},
   "outputs": [
    {
     "data": {
      "text/plain": [
       "True"
      ]
     },
     "execution_count": 12,
     "metadata": {},
     "output_type": "execute_result"
    }
   ],
   "source": [
    "a.endswith(a)"
   ]
  },
  {
   "cell_type": "code",
   "execution_count": 15,
   "id": "10924181",
   "metadata": {},
   "outputs": [
    {
     "data": {
      "text/plain": [
       "False"
      ]
     },
     "execution_count": 15,
     "metadata": {},
     "output_type": "execute_result"
    }
   ],
   "source": [
    "a.startswith('y')"
   ]
  },
  {
   "cell_type": "code",
   "execution_count": 16,
   "id": "a8401376",
   "metadata": {},
   "outputs": [
    {
     "data": {
      "text/plain": [
       "False"
      ]
     },
     "execution_count": 16,
     "metadata": {},
     "output_type": "execute_result"
    }
   ],
   "source": [
    "a.islower()"
   ]
  },
  {
   "cell_type": "code",
   "execution_count": 17,
   "id": "0127a784",
   "metadata": {},
   "outputs": [
    {
     "data": {
      "text/plain": [
       "False"
      ]
     },
     "execution_count": 17,
     "metadata": {},
     "output_type": "execute_result"
    }
   ],
   "source": [
    "a.isupper()"
   ]
  },
  {
   "cell_type": "code",
   "execution_count": 22,
   "id": "f04d16bf",
   "metadata": {},
   "outputs": [],
   "source": [
    "B=\"I'M WORKING WITH YARDI SOFTWARE SOLUTION\""
   ]
  },
  {
   "cell_type": "code",
   "execution_count": 23,
   "id": "1d604ee4",
   "metadata": {},
   "outputs": [
    {
     "data": {
      "text/plain": [
       "\"I'M WORKING WITH YARDI SOFTWARE SOLUTION\""
      ]
     },
     "execution_count": 23,
     "metadata": {},
     "output_type": "execute_result"
    }
   ],
   "source": [
    "B"
   ]
  },
  {
   "cell_type": "code",
   "execution_count": 24,
   "id": "4aea2221",
   "metadata": {},
   "outputs": [
    {
     "data": {
      "text/plain": [
       "\"My name is anil wasare, I'm from india\""
      ]
     },
     "execution_count": 24,
     "metadata": {},
     "output_type": "execute_result"
    }
   ],
   "source": [
    "a"
   ]
  },
  {
   "cell_type": "code",
   "execution_count": 25,
   "id": "1408bcb2",
   "metadata": {},
   "outputs": [
    {
     "data": {
      "text/plain": [
       "\"I'M WORKING WITH YARDI SOFTWARE SOLUTION\""
      ]
     },
     "execution_count": 25,
     "metadata": {},
     "output_type": "execute_result"
    }
   ],
   "source": [
    "B.upper()"
   ]
  },
  {
   "cell_type": "code",
   "execution_count": 26,
   "id": "fc71d984",
   "metadata": {},
   "outputs": [
    {
     "data": {
      "text/plain": [
       "True"
      ]
     },
     "execution_count": 26,
     "metadata": {},
     "output_type": "execute_result"
    }
   ],
   "source": [
    "B.isupper()"
   ]
  },
  {
   "cell_type": "code",
   "execution_count": 28,
   "id": "d1b4c63d",
   "metadata": {},
   "outputs": [
    {
     "data": {
      "text/plain": [
       "\"I'm working with yardi software solution\""
      ]
     },
     "execution_count": 28,
     "metadata": {},
     "output_type": "execute_result"
    }
   ],
   "source": [
    "B.capitalize()"
   ]
  },
  {
   "cell_type": "code",
   "execution_count": 31,
   "id": "8c96a812",
   "metadata": {},
   "outputs": [
    {
     "data": {
      "text/plain": [
       "\"I'M Working With Yardi Software Solution\""
      ]
     },
     "execution_count": 31,
     "metadata": {},
     "output_type": "execute_result"
    }
   ],
   "source": [
    "B.title()"
   ]
  },
  {
   "cell_type": "code",
   "execution_count": 33,
   "id": "9045fdbb",
   "metadata": {},
   "outputs": [
    {
     "data": {
      "text/plain": [
       "0"
      ]
     },
     "execution_count": 33,
     "metadata": {},
     "output_type": "execute_result"
    }
   ],
   "source": [
    "B.count('w')"
   ]
  },
  {
   "cell_type": "code",
   "execution_count": 34,
   "id": "d953ed95",
   "metadata": {},
   "outputs": [
    {
     "data": {
      "text/plain": [
       "0"
      ]
     },
     "execution_count": 34,
     "metadata": {},
     "output_type": "execute_result"
    }
   ],
   "source": [
    "B.count('s')"
   ]
  },
  {
   "cell_type": "code",
   "execution_count": 35,
   "id": "f8b8aa06",
   "metadata": {},
   "outputs": [
    {
     "data": {
      "text/plain": [
       "5"
      ]
     },
     "execution_count": 35,
     "metadata": {},
     "output_type": "execute_result"
    }
   ],
   "source": [
    "B.count('I')"
   ]
  },
  {
   "cell_type": "code",
   "execution_count": 37,
   "id": "3b7ce4d0",
   "metadata": {},
   "outputs": [
    {
     "data": {
      "text/plain": [
       "3"
      ]
     },
     "execution_count": 37,
     "metadata": {},
     "output_type": "execute_result"
    }
   ],
   "source": [
    "B.count('W')"
   ]
  },
  {
   "cell_type": "code",
   "execution_count": 38,
   "id": "a7b77cbe",
   "metadata": {},
   "outputs": [
    {
     "data": {
      "text/plain": [
       "\"I'M Working With Yardi Software SolutionMy name is anil wasare, I'm from india\""
      ]
     },
     "execution_count": 38,
     "metadata": {},
     "output_type": "execute_result"
    }
   ],
   "source": [
    "\"I'M Working With Yardi Software Solution\"+\"My name is anil wasare, I'm from india\""
   ]
  },
  {
   "cell_type": "code",
   "execution_count": 39,
   "id": "5a16bce6",
   "metadata": {},
   "outputs": [
    {
     "data": {
      "text/plain": [
       "[\"I'M\", 'WORKING', 'WITH', 'YARDI', 'SOFTWARE', 'SOLUTION']"
      ]
     },
     "execution_count": 39,
     "metadata": {},
     "output_type": "execute_result"
    }
   ],
   "source": [
    "B.split()"
   ]
  },
  {
   "cell_type": "code",
   "execution_count": 40,
   "id": "aa37eff0",
   "metadata": {},
   "outputs": [
    {
     "data": {
      "text/plain": [
       "\"I'M SORKING SITH YARDI SOFTSARE SOLUTION\""
      ]
     },
     "execution_count": 40,
     "metadata": {},
     "output_type": "execute_result"
    }
   ],
   "source": [
    "B.replace('W', \"S\")"
   ]
  },
  {
   "cell_type": "code",
   "execution_count": null,
   "id": "1b82639a",
   "metadata": {},
   "outputs": [],
   "source": []
  }
 ],
 "metadata": {
  "kernelspec": {
   "display_name": "Python 3",
   "language": "python",
   "name": "python3"
  },
  "language_info": {
   "codemirror_mode": {
    "name": "ipython",
    "version": 3
   },
   "file_extension": ".py",
   "mimetype": "text/x-python",
   "name": "python",
   "nbconvert_exporter": "python",
   "pygments_lexer": "ipython3",
   "version": "3.6.13"
  }
 },
 "nbformat": 4,
 "nbformat_minor": 5
}
