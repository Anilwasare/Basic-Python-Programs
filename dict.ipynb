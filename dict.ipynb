{
 "cells": [
  {
   "cell_type": "code",
   "execution_count": 4,
   "id": "71930d43",
   "metadata": {},
   "outputs": [],
   "source": [
    "d={'key':453,'key1':'anil','key2':[12,23,45]}"
   ]
  },
  {
   "cell_type": "code",
   "execution_count": 5,
   "id": "710c6056",
   "metadata": {},
   "outputs": [
    {
     "data": {
      "text/plain": [
       "{'key': 453, 'key1': 'anil', 'key2': [12, 23, 45]}"
      ]
     },
     "execution_count": 5,
     "metadata": {},
     "output_type": "execute_result"
    }
   ],
   "source": [
    "d"
   ]
  },
  {
   "cell_type": "code",
   "execution_count": 6,
   "id": "ad358903",
   "metadata": {},
   "outputs": [
    {
     "ename": "SyntaxError",
     "evalue": "can't delete literal (<ipython-input-6-dca74c1c22e0>, line 1)",
     "output_type": "error",
     "traceback": [
      "\u001b[0;36m  File \u001b[0;32m\"<ipython-input-6-dca74c1c22e0>\"\u001b[0;36m, line \u001b[0;32m1\u001b[0m\n\u001b[0;31m    del('key')\u001b[0m\n\u001b[0m      ^\u001b[0m\n\u001b[0;31mSyntaxError\u001b[0m\u001b[0;31m:\u001b[0m can't delete literal\n"
     ]
    }
   ],
   "source": [
    "del('key')"
   ]
  },
  {
   "cell_type": "code",
   "execution_count": 7,
   "id": "37a9e0d1",
   "metadata": {},
   "outputs": [],
   "source": [
    "del(d)"
   ]
  },
  {
   "cell_type": "code",
   "execution_count": 8,
   "id": "fa7aa1f9",
   "metadata": {},
   "outputs": [
    {
     "ename": "NameError",
     "evalue": "name 'd' is not defined",
     "output_type": "error",
     "traceback": [
      "\u001b[0;31m---------------------------------------------------------------------------\u001b[0m",
      "\u001b[0;31mNameError\u001b[0m                                 Traceback (most recent call last)",
      "\u001b[0;32m<ipython-input-8-e983f374794d>\u001b[0m in \u001b[0;36m<module>\u001b[0;34m\u001b[0m\n\u001b[0;32m----> 1\u001b[0;31m \u001b[0md\u001b[0m\u001b[0;34m\u001b[0m\u001b[0;34m\u001b[0m\u001b[0m\n\u001b[0m",
      "\u001b[0;31mNameError\u001b[0m: name 'd' is not defined"
     ]
    }
   ],
   "source": [
    "d"
   ]
  },
  {
   "cell_type": "code",
   "execution_count": 10,
   "id": "2c3ed767",
   "metadata": {},
   "outputs": [],
   "source": [
    "d1={'key':123,'key1':\"anil\",'key2':(12,12,23)}"
   ]
  },
  {
   "cell_type": "code",
   "execution_count": 16,
   "id": "5a8c34ec",
   "metadata": {},
   "outputs": [],
   "source": [
    "d1[(12,12)]='anil'"
   ]
  },
  {
   "cell_type": "code",
   "execution_count": 17,
   "id": "fa16b697",
   "metadata": {},
   "outputs": [
    {
     "data": {
      "text/plain": [
       "{'key': 123, 'key1': 'anil', 'key2': (12, 12, 23), (12, 12): 'anil'}"
      ]
     },
     "execution_count": 17,
     "metadata": {},
     "output_type": "execute_result"
    }
   ],
   "source": [
    "d1"
   ]
  },
  {
   "cell_type": "code",
   "execution_count": 18,
   "id": "bd957b6e",
   "metadata": {},
   "outputs": [
    {
     "data": {
      "text/plain": [
       "123"
      ]
     },
     "execution_count": 18,
     "metadata": {},
     "output_type": "execute_result"
    }
   ],
   "source": [
    "d1.get('key')"
   ]
  },
  {
   "cell_type": "code",
   "execution_count": 20,
   "id": "34efc335",
   "metadata": {},
   "outputs": [],
   "source": [
    "d2={'key3':'pune','key4':741,'key5':'mumbai'}"
   ]
  },
  {
   "cell_type": "code",
   "execution_count": 21,
   "id": "94b35e03",
   "metadata": {},
   "outputs": [],
   "source": [
    "d1.update(d2)"
   ]
  },
  {
   "cell_type": "code",
   "execution_count": 22,
   "id": "80c5121d",
   "metadata": {},
   "outputs": [
    {
     "data": {
      "text/plain": [
       "{'key': 123,\n",
       " 'key1': 'anil',\n",
       " 'key2': (12, 12, 23),\n",
       " (12, 12): 'anil',\n",
       " 'key3': 'pune',\n",
       " 'key4': 741,\n",
       " 'key5': 'mumbai'}"
      ]
     },
     "execution_count": 22,
     "metadata": {},
     "output_type": "execute_result"
    }
   ],
   "source": [
    "d1"
   ]
  },
  {
   "cell_type": "code",
   "execution_count": 23,
   "id": "709231f3",
   "metadata": {},
   "outputs": [
    {
     "name": "stdout",
     "output_type": "stream",
     "text": [
      "{'key3': 'pune', 'key4': 741, 'key5': 'mumbai'}\n"
     ]
    }
   ],
   "source": [
    "print(d2)"
   ]
  },
  {
   "cell_type": "code",
   "execution_count": 25,
   "id": "3ed918bf",
   "metadata": {},
   "outputs": [
    {
     "data": {
      "text/plain": [
       "\"{'key': 123, 'key1': 'anil', 'key2': (12, 12, 23), (12, 12): 'anil', 'key3': 'pune', 'key4': 741, 'key5': 'mumbai'}{'key3': 'pune', 'key4': 741, 'key5': 'mumbai'}\""
      ]
     },
     "execution_count": 25,
     "metadata": {},
     "output_type": "execute_result"
    }
   ],
   "source": [
    "str(d1)+str(d2)"
   ]
  },
  {
   "cell_type": "code",
   "execution_count": 26,
   "id": "e984f782",
   "metadata": {},
   "outputs": [],
   "source": [
    "a=[12,1,2,5,45]"
   ]
  },
  {
   "cell_type": "code",
   "execution_count": 27,
   "id": "cf234134",
   "metadata": {},
   "outputs": [
    {
     "data": {
      "text/plain": [
       "2"
      ]
     },
     "execution_count": 27,
     "metadata": {},
     "output_type": "execute_result"
    }
   ],
   "source": [
    "a.index(2)"
   ]
  },
  {
   "cell_type": "code",
   "execution_count": 29,
   "id": "439c5c7e",
   "metadata": {},
   "outputs": [
    {
     "data": {
      "text/plain": [
       "4"
      ]
     },
     "execution_count": 29,
     "metadata": {},
     "output_type": "execute_result"
    }
   ],
   "source": [
    "a.index(45)"
   ]
  },
  {
   "cell_type": "code",
   "execution_count": 30,
   "id": "a1f0c714",
   "metadata": {},
   "outputs": [],
   "source": [
    "a.append('anil')"
   ]
  },
  {
   "cell_type": "code",
   "execution_count": 31,
   "id": "ba9679fc",
   "metadata": {},
   "outputs": [
    {
     "data": {
      "text/plain": [
       "[12, 1, 2, 5, 45, 'anil']"
      ]
     },
     "execution_count": 31,
     "metadata": {},
     "output_type": "execute_result"
    }
   ],
   "source": [
    "a"
   ]
  },
  {
   "cell_type": "code",
   "execution_count": 33,
   "id": "a59564f6",
   "metadata": {},
   "outputs": [
    {
     "data": {
      "text/plain": [
       "1"
      ]
     },
     "execution_count": 33,
     "metadata": {},
     "output_type": "execute_result"
    }
   ],
   "source": [
    "1"
   ]
  },
  {
   "cell_type": "code",
   "execution_count": 34,
   "id": "6c40e362",
   "metadata": {},
   "outputs": [
    {
     "data": {
      "text/plain": [
       "{'key': 123,\n",
       " 'key1': 'anil',\n",
       " 'key2': (12, 12, 23),\n",
       " (12, 12): 'anil',\n",
       " 'key3': 'pune',\n",
       " 'key4': 741,\n",
       " 'key5': 'mumbai'}"
      ]
     },
     "execution_count": 34,
     "metadata": {},
     "output_type": "execute_result"
    }
   ],
   "source": [
    "d1"
   ]
  },
  {
   "cell_type": "code",
   "execution_count": 35,
   "id": "61b0ee0b",
   "metadata": {},
   "outputs": [
    {
     "ename": "SyntaxError",
     "evalue": "invalid syntax (<ipython-input-35-f2aee69d78e8>, line 1)",
     "output_type": "error",
     "traceback": [
      "\u001b[0;36m  File \u001b[0;32m\"<ipython-input-35-f2aee69d78e8>\"\u001b[0;36m, line \u001b[0;32m1\u001b[0m\n\u001b[0;31m    d1.update('key':456)\u001b[0m\n\u001b[0m                   ^\u001b[0m\n\u001b[0;31mSyntaxError\u001b[0m\u001b[0;31m:\u001b[0m invalid syntax\n"
     ]
    }
   ],
   "source": [
    "d1.update()"
   ]
  },
  {
   "cell_type": "code",
   "execution_count": 36,
   "id": "241eec15",
   "metadata": {},
   "outputs": [
    {
     "data": {
      "text/plain": [
       "{'key3': 'pune', 'key4': 741, 'key5': 'mumbai'}"
      ]
     },
     "execution_count": 36,
     "metadata": {},
     "output_type": "execute_result"
    }
   ],
   "source": [
    "d2"
   ]
  },
  {
   "cell_type": "code",
   "execution_count": 39,
   "id": "5d4af7f9",
   "metadata": {},
   "outputs": [
    {
     "ename": "SyntaxError",
     "evalue": "invalid syntax (<ipython-input-39-534427e507f7>, line 1)",
     "output_type": "error",
     "traceback": [
      "\u001b[0;36m  File \u001b[0;32m\"<ipython-input-39-534427e507f7>\"\u001b[0;36m, line \u001b[0;32m1\u001b[0m\n\u001b[0;31m    d2.update]=('key3':'mumbai')\u001b[0m\n\u001b[0m             ^\u001b[0m\n\u001b[0;31mSyntaxError\u001b[0m\u001b[0;31m:\u001b[0m invalid syntax\n"
     ]
    }
   ],
   "source": [
    "d2.update]=('key3':'mumbai')"
   ]
  },
  {
   "cell_type": "code",
   "execution_count": 40,
   "id": "b6a4dcf8",
   "metadata": {},
   "outputs": [],
   "source": [
    "l={'key1':121,'key2':'anil','key3':'pune'}\n",
    "l2={'name':'anil wasare','addess':'pune'}"
   ]
  },
  {
   "cell_type": "code",
   "execution_count": 42,
   "id": "17c9ccff",
   "metadata": {},
   "outputs": [],
   "source": [
    "l.update(l2)"
   ]
  },
  {
   "cell_type": "code",
   "execution_count": 43,
   "id": "713ee51f",
   "metadata": {},
   "outputs": [
    {
     "data": {
      "text/plain": [
       "{'key1': 121,\n",
       " 'key2': 'anil',\n",
       " 'key3': 'pune',\n",
       " 'name': 'anil wasare',\n",
       " 'addess': 'pune'}"
      ]
     },
     "execution_count": 43,
     "metadata": {},
     "output_type": "execute_result"
    }
   ],
   "source": [
    "l"
   ]
  },
  {
   "cell_type": "code",
   "execution_count": null,
   "id": "a13e160c",
   "metadata": {},
   "outputs": [],
   "source": []
  }
 ],
 "metadata": {
  "kernelspec": {
   "display_name": "Python 3",
   "language": "python",
   "name": "python3"
  },
  "language_info": {
   "codemirror_mode": {
    "name": "ipython",
    "version": 3
   },
   "file_extension": ".py",
   "mimetype": "text/x-python",
   "name": "python",
   "nbconvert_exporter": "python",
   "pygments_lexer": "ipython3",
   "version": "3.6.15"
  }
 },
 "nbformat": 4,
 "nbformat_minor": 5
}
