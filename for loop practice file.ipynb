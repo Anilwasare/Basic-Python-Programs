{
 "cells": [
  {
   "cell_type": "code",
   "execution_count": 11,
   "id": "47e5007e",
   "metadata": {},
   "outputs": [
    {
     "name": "stdout",
     "output_type": "stream",
     "text": [
      "['a', 'n', 'i', 'l']\n"
     ]
    }
   ],
   "source": [
    "a=[12,4,'anil',45]\n",
    "for i in a:\n",
    "    if type(i)==str:\n",
    "        a1=[]\n",
    "        for j in i:\n",
    "            a1.append(j)\n",
    "        print(a1)"
   ]
  },
  {
   "cell_type": "code",
   "execution_count": null,
   "id": "d41ba9f5",
   "metadata": {},
   "outputs": [],
   "source": []
  },
  {
   "cell_type": "code",
   "execution_count": 12,
   "id": "bdcf9c79",
   "metadata": {},
   "outputs": [
    {
     "name": "stdout",
     "output_type": "stream",
     "text": [
      "['a', 'n', 'i', 'l']\n"
     ]
    }
   ],
   "source": [
    "i=[45,12,56,'anil',45+5j,[2,5,'ghhgh']]\n",
    "for a in i:\n",
    "    if type(a)==str:\n",
    "        a2=[]\n",
    "        for j in a:\n",
    "            a2.append(j)\n",
    "        print(a2)\n"
   ]
  },
  {
   "cell_type": "code",
   "execution_count": 13,
   "id": "73c6a511",
   "metadata": {},
   "outputs": [
    {
     "data": {
      "text/plain": [
       "[2, 5, 'ghhgh']"
      ]
     },
     "execution_count": 13,
     "metadata": {},
     "output_type": "execute_result"
    }
   ],
   "source": [
    "a"
   ]
  },
  {
   "cell_type": "code",
   "execution_count": 25,
   "id": "7acb3463",
   "metadata": {},
   "outputs": [
    {
     "name": "stdout",
     "output_type": "stream",
     "text": [
      "square of 144\n",
      "square of 64\n",
      "square of 49\n"
     ]
    }
   ],
   "source": [
    "a=[12,8,7,'anil']\n",
    "for i in a:\n",
    "    if type(i)==int:\n",
    "        print('square of',i**2)"
   ]
  },
  {
   "cell_type": "code",
   "execution_count": 28,
   "id": "3c4b6c83",
   "metadata": {},
   "outputs": [
    {
     "name": "stdout",
     "output_type": "stream",
     "text": [
      "[144]\n",
      "[64]\n",
      "[49]\n"
     ]
    }
   ],
   "source": [
    "a=[12,8,7,'anil']\n",
    "for i in a:\n",
    "    if type(i)==int:\n",
    "        a1=[]\n",
    "        a1.append(i**2)\n",
    "        print(a1)"
   ]
  },
  {
   "cell_type": "code",
   "execution_count": 31,
   "id": "f99331e4",
   "metadata": {},
   "outputs": [
    {
     "data": {
      "text/plain": [
       "0"
      ]
     },
     "execution_count": 31,
     "metadata": {},
     "output_type": "execute_result"
    }
   ],
   "source": [
    "a.index(12)"
   ]
  },
  {
   "cell_type": "code",
   "execution_count": 32,
   "id": "94324e78",
   "metadata": {},
   "outputs": [
    {
     "data": {
      "text/plain": [
       "[12, 8, 7, 'anil']"
      ]
     },
     "execution_count": 32,
     "metadata": {},
     "output_type": "execute_result"
    }
   ],
   "source": [
    "a"
   ]
  },
  {
   "cell_type": "code",
   "execution_count": 37,
   "id": "b5385a04",
   "metadata": {},
   "outputs": [
    {
     "name": "stdout",
     "output_type": "stream",
     "text": [
      "index of 0 for an element 12\n",
      "index of 1 for an element 54\n",
      "index of 2 for an element 65\n",
      "index of 3 for an element anil\n"
     ]
    }
   ],
   "source": [
    "a=[12,54,65,'anil']\n",
    "for i in range(len(a)):\n",
    "    print('index of',i,'for an element',a[i])"
   ]
  },
  {
   "cell_type": "code",
   "execution_count": 38,
   "id": "a08d5d0a",
   "metadata": {},
   "outputs": [
    {
     "data": {
      "text/plain": [
       "[12, 54, 65, 'anil']"
      ]
     },
     "execution_count": 38,
     "metadata": {},
     "output_type": "execute_result"
    }
   ],
   "source": [
    "a"
   ]
  },
  {
   "cell_type": "code",
   "execution_count": 51,
   "id": "e5f92240",
   "metadata": {},
   "outputs": [
    {
     "name": "stdout",
     "output_type": "stream",
     "text": [
      "['a', 'n', 'i', 'l']\n"
     ]
    }
   ],
   "source": [
    "for i in a:\n",
    "    if type(i)==str:\n",
    "        a1=[]\n",
    "        for j in i:\n",
    "            a1.append(j)\n",
    "        print(a1)\n",
    "        "
   ]
  },
  {
   "cell_type": "code",
   "execution_count": null,
   "id": "fd564676",
   "metadata": {},
   "outputs": [],
   "source": [
    "a=[12,4,'anil',45]\n",
    "for i in a:\n",
    "    if type(i)==str:\n",
    "        a1=[]\n",
    "        for j in i:\n",
    "            a1.append(j)\n",
    "        print(a1)"
   ]
  }
 ],
 "metadata": {
  "kernelspec": {
   "display_name": "Python 3",
   "language": "python",
   "name": "python3"
  },
  "language_info": {
   "codemirror_mode": {
    "name": "ipython",
    "version": 3
   },
   "file_extension": ".py",
   "mimetype": "text/x-python",
   "name": "python",
   "nbconvert_exporter": "python",
   "pygments_lexer": "ipython3",
   "version": "3.6.15"
  }
 },
 "nbformat": 4,
 "nbformat_minor": 5
}
