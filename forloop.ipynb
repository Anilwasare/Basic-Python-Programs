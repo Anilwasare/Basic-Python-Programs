{
 "cells": [
  {
   "cell_type": "code",
   "execution_count": 4,
   "id": "b42a7d8f",
   "metadata": {},
   "outputs": [
    {
     "name": "stdout",
     "output_type": "stream",
     "text": [
      "5\n",
      "go to the next statement\n"
     ]
    }
   ],
   "source": [
    "a=int(input())\n",
    "\n",
    "if a>10:\n",
    "    print(\"10 is smaller number\")\n",
    "elif a<10:\n",
    "    print(\"go to the next statement\")\n",
    "else:\n",
    "    print(\"try next time\")"
   ]
  },
  {
   "cell_type": "code",
   "execution_count": 6,
   "id": "df58b5a9",
   "metadata": {},
   "outputs": [
    {
     "name": "stdout",
     "output_type": "stream",
     "text": [
      "12\n",
      "12\n",
      "3\n",
      "4\n",
      "anil\n"
     ]
    }
   ],
   "source": [
    "a=[12,12,3,4,'anil']\n",
    "\n",
    "for i in a:\n",
    "   print(i)"
   ]
  },
  {
   "cell_type": "code",
   "execution_count": 9,
   "id": "48866cc7",
   "metadata": {},
   "outputs": [
    {
     "name": "stdout",
     "output_type": "stream",
     "text": [
      "(0, 12)\n",
      "(1, 12)\n",
      "(2, 3)\n",
      "(3, 4)\n",
      "(4, 'anil')\n"
     ]
    }
   ],
   "source": [
    "a=[12,12,3,4,'anil']\n",
    "\n",
    "for i in enumerate(a):\n",
    "    print(i)"
   ]
  },
  {
   "cell_type": "code",
   "execution_count": 18,
   "id": "243ab451",
   "metadata": {},
   "outputs": [
    {
     "name": "stdout",
     "output_type": "stream",
     "text": [
      "<class 'int'>\n",
      "<class 'int'> type of 12\n",
      "<class 'int'>\n",
      "<class 'int'> type of 12\n",
      "<class 'int'>\n",
      "<class 'int'> type of 3\n",
      "<class 'int'>\n",
      "<class 'int'> type of 4\n",
      "<class 'str'>\n",
      "<class 'str'> type of anil\n"
     ]
    }
   ],
   "source": [
    "a=[12,12,3,4,'anil']\n",
    "\n",
    "for i in a:\n",
    "    print(type(i))\n",
    "    print(type(i),\"type of\",i)"
   ]
  },
  {
   "cell_type": "code",
   "execution_count": 21,
   "id": "9e6f015e",
   "metadata": {},
   "outputs": [
    {
     "name": "stdout",
     "output_type": "stream",
     "text": [
      "12\n",
      "12\n",
      "3\n",
      "4\n",
      "anil\n"
     ]
    }
   ],
   "source": [
    "a=[12,12,3,4,'anil']\n",
    "\n",
    "for i in a:\n",
    "    if type(i)==float:\n",
    "        print(i)\n",
    "    elif type(i)==int:\n",
    "          print(i)\n",
    "    elif type(i)== float:\n",
    "          print(i)\n",
    "    elif type(i)==str:\n",
    "        print(i)\n",
    "\n"
   ]
  },
  {
   "cell_type": "code",
   "execution_count": 22,
   "id": "df4de3c8",
   "metadata": {},
   "outputs": [
    {
     "name": "stdout",
     "output_type": "stream",
     "text": [
      "index of 0 for an element 12\n",
      "index of 1 for an element 12\n",
      "index of 2 for an element 3\n",
      "index of 3 for an element 4\n",
      "index of 4 for an element anil\n"
     ]
    }
   ],
   "source": [
    "a=[12,12,3,4,'anil']\n",
    "\n",
    "for i in range(len(a)):\n",
    "    print(\"index of\", i,'for an element',a[i])"
   ]
  },
  {
   "cell_type": "code",
   "execution_count": 35,
   "id": "92f38b51",
   "metadata": {},
   "outputs": [
    {
     "ename": "TypeError",
     "evalue": "'int' object is not iterable",
     "output_type": "error",
     "traceback": [
      "\u001b[0;31m---------------------------------------------------------------------------\u001b[0m",
      "\u001b[0;31mTypeError\u001b[0m                                 Traceback (most recent call last)",
      "\u001b[0;32m<ipython-input-35-2afe8a70bd84>\u001b[0m in \u001b[0;36m<module>\u001b[0;34m\u001b[0m\n\u001b[1;32m      3\u001b[0m     \u001b[0;32mif\u001b[0m \u001b[0mtype\u001b[0m\u001b[0;34m(\u001b[0m\u001b[0mi\u001b[0m\u001b[0;34m)\u001b[0m\u001b[0;34m==\u001b[0m \u001b[0mstr\u001b[0m\u001b[0;34m:\u001b[0m\u001b[0;34m\u001b[0m\u001b[0;34m\u001b[0m\u001b[0m\n\u001b[1;32m      4\u001b[0m         \u001b[0ma1\u001b[0m\u001b[0;34m=\u001b[0m\u001b[0;34m[\u001b[0m\u001b[0;34m]\u001b[0m\u001b[0;34m\u001b[0m\u001b[0;34m\u001b[0m\u001b[0m\n\u001b[0;32m----> 5\u001b[0;31m     \u001b[0;32mfor\u001b[0m \u001b[0mj\u001b[0m \u001b[0;32min\u001b[0m \u001b[0mi\u001b[0m\u001b[0;34m:\u001b[0m\u001b[0;34m\u001b[0m\u001b[0;34m\u001b[0m\u001b[0m\n\u001b[0m\u001b[1;32m      6\u001b[0m         \u001b[0ma1\u001b[0m\u001b[0;34m.\u001b[0m\u001b[0mappend\u001b[0m\u001b[0;34m(\u001b[0m\u001b[0mj\u001b[0m\u001b[0;34m)\u001b[0m\u001b[0;34m\u001b[0m\u001b[0;34m\u001b[0m\u001b[0m\n\u001b[1;32m      7\u001b[0m         \u001b[0mprint\u001b[0m\u001b[0;34m(\u001b[0m\u001b[0ma1\u001b[0m\u001b[0;34m)\u001b[0m\u001b[0;34m\u001b[0m\u001b[0;34m\u001b[0m\u001b[0m\n",
      "\u001b[0;31mTypeError\u001b[0m: 'int' object is not iterable"
     ]
    }
   ],
   "source": [
    "a=[12,12,3,4,'anil']\n",
    "for i in a:\n",
    "    if type(i)== str:\n",
    "        a1=[]\n",
    "    for j in i:\n",
    "        a1.append(j)\n",
    "        print(a1)"
   ]
  },
  {
   "cell_type": "code",
   "execution_count": 2,
   "id": "326de5d3",
   "metadata": {},
   "outputs": [
    {
     "name": "stdout",
     "output_type": "stream",
     "text": [
      "['a']\n",
      "['a', 'n']\n",
      "['a', 'n', 'i']\n",
      "['a', 'n', 'i', 'l']\n",
      "['w']\n",
      "['w', 'a']\n",
      "['w', 'a', 's']\n",
      "['w', 'a', 's', 'a']\n",
      "['w', 'a', 's', 'a', 'r']\n",
      "['w', 'a', 's', 'a', 'r', 'e']\n"
     ]
    }
   ],
   "source": [
    "a=[12,5,6,'anil','wasare']\n",
    "for i in a:\n",
    "    if type(i)==str:\n",
    "        a1=[]\n",
    "        for j in i:\n",
    "            a1.append(j)\n",
    "            print(a1)"
   ]
  },
  {
   "cell_type": "code",
   "execution_count": 4,
   "id": "5ae407e1",
   "metadata": {
    "scrolled": true
   },
   "outputs": [
    {
     "ename": "NameError",
     "evalue": "name 'i' is not defined",
     "output_type": "error",
     "traceback": [
      "\u001b[0;31m---------------------------------------------------------------------------\u001b[0m",
      "\u001b[0;31mNameError\u001b[0m                                 Traceback (most recent call last)",
      "\u001b[0;32m<ipython-input-4-397d543883c5>\u001b[0m in \u001b[0;36m<module>\u001b[0;34m\u001b[0m\n\u001b[0;32m----> 1\u001b[0;31m \u001b[0mi\u001b[0m\u001b[0;34m\u001b[0m\u001b[0;34m\u001b[0m\u001b[0m\n\u001b[0m",
      "\u001b[0;31mNameError\u001b[0m: name 'i' is not defined"
     ]
    }
   ],
   "source": [
    "i\n"
   ]
  },
  {
   "cell_type": "code",
   "execution_count": 3,
   "id": "6180a097",
   "metadata": {},
   "outputs": [
    {
     "data": {
      "text/plain": [
       "[12, 5, 6, 'anil', 'wasare']"
      ]
     },
     "execution_count": 3,
     "metadata": {},
     "output_type": "execute_result"
    }
   ],
   "source": [
    "a"
   ]
  },
  {
   "cell_type": "code",
   "execution_count": 6,
   "id": "78053189",
   "metadata": {},
   "outputs": [
    {
     "name": "stdout",
     "output_type": "stream",
     "text": [
      "square of 144\n",
      "square of 25\n",
      "square of 36\n"
     ]
    }
   ],
   "source": [
    "a1=[]\n",
    "for i in a:\n",
    "    if type(i)==int:\n",
    "        a1.append(i)\n",
    "        print('square of',i**2)"
   ]
  },
  {
   "cell_type": "code",
   "execution_count": 4,
   "id": "aa03328d",
   "metadata": {},
   "outputs": [
    {
     "name": "stdout",
     "output_type": "stream",
     "text": [
      "12\n",
      "1\n",
      "2\n"
     ]
    }
   ],
   "source": [
    "a=[[12,1,2,'anil']]\n",
    "for i in a:\n",
    "    if type(i)==list:\n",
    "        for j in i:\n",
    "            if type(j)==int:\n",
    "                print(j)\n",
    "    "
   ]
  },
  {
   "cell_type": "code",
   "execution_count": null,
   "id": "4691dbcb",
   "metadata": {},
   "outputs": [],
   "source": []
  },
  {
   "cell_type": "code",
   "execution_count": null,
   "id": "63c2d02e",
   "metadata": {},
   "outputs": [],
   "source": []
  }
 ],
 "metadata": {
  "kernelspec": {
   "display_name": "Python 3",
   "language": "python",
   "name": "python3"
  },
  "language_info": {
   "codemirror_mode": {
    "name": "ipython",
    "version": 3
   },
   "file_extension": ".py",
   "mimetype": "text/x-python",
   "name": "python",
   "nbconvert_exporter": "python",
   "pygments_lexer": "ipython3",
   "version": "3.6.15"
  }
 },
 "nbformat": 4,
 "nbformat_minor": 5
}
