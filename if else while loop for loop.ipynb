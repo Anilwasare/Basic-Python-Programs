{
 "cells": [
  {
   "cell_type": "code",
   "execution_count": 8,
   "id": "90f93596",
   "metadata": {},
   "outputs": [
    {
     "name": "stdout",
     "output_type": "stream",
     "text": [
      "enter string nameineuron\n",
      "enter course nameJava\n",
      "enter servicemodule\n",
      "please enter valid course name\n"
     ]
    }
   ],
   "source": [
    "s=input(\"enter string name\")\n",
    "course=input(\"enter course name\")\n",
    "service=input(\"enter service\")\n",
    "if s==\"ineuron\":\n",
    "    if course==\"DSA\":\n",
    "        print(\"this course is available please enroll\")\n",
    "    elif course==\"blockchain\":\n",
    "        print(\"this course is available, please enroll\")\n",
    "    else:\n",
    "        print(\"please enter valid course name\")\n",
    "elif s==\"ineuronservice\":\n",
    "    if service==\"course request\":\n",
    "        print(\"dear learner, you can demand to any course\")\n",
    "    elif service==\"module\":\n",
    "        print(\"please learner, raise a demand\")\n",
    "    elif service==\"doubt\":\n",
    "        print(\"please raiase a query\")\n",
    "else:\n",
    "    print(\" kindly provide a us a feedback\")\n",
    "    "
   ]
  },
  {
   "cell_type": "code",
   "execution_count": null,
   "id": "37c56aac",
   "metadata": {},
   "outputs": [],
   "source": [
    "for loop and while loop\n"
   ]
  },
  {
   "cell_type": "code",
   "execution_count": 1,
   "id": "5f733ba5",
   "metadata": {},
   "outputs": [
    {
     "name": "stdout",
     "output_type": "stream",
     "text": [
      "1\n",
      "2\n",
      "3\n",
      "4\n",
      "5\n",
      "6\n",
      "7\n"
     ]
    }
   ],
   "source": [
    "l=[1,2,3,4,5,6,7]\n",
    "for s in l:\n",
    "    print(s)"
   ]
  },
  {
   "cell_type": "code",
   "execution_count": 2,
   "id": "01085dee",
   "metadata": {},
   "outputs": [
    {
     "name": "stdout",
     "output_type": "stream",
     "text": [
      "a\n",
      "n\n",
      "i\n",
      "l\n",
      " \n",
      "w\n",
      "a\n",
      "s\n",
      "a\n",
      "r\n",
      "e\n"
     ]
    }
   ],
   "source": [
    "s=\"anil wasare\"\n",
    "for i in s:\n",
    "    print(i)"
   ]
  },
  {
   "cell_type": "code",
   "execution_count": 5,
   "id": "4cae805d",
   "metadata": {},
   "outputs": [
    {
     "name": "stdout",
     "output_type": "stream",
     "text": [
      "12\n",
      "1\n",
      "12\n",
      "5\n",
      "6\n",
      "4\n"
     ]
    }
   ],
   "source": [
    "t=(12,1,12,5,6,4)\n",
    "for i in t:\n",
    "    print(i)"
   ]
  },
  {
   "cell_type": "code",
   "execution_count": 6,
   "id": "70bfc3fb",
   "metadata": {},
   "outputs": [
    {
     "name": "stdout",
     "output_type": "stream",
     "text": [
      "5\n",
      "12\n",
      "4\n",
      "6\n"
     ]
    }
   ],
   "source": [
    "t={12,12,4,5,6,}\n",
    "for i in t:\n",
    "    print(i)"
   ]
  },
  {
   "cell_type": "code",
   "execution_count": 11,
   "id": "5b8e93c7",
   "metadata": {},
   "outputs": [
    {
     "name": "stdout",
     "output_type": "stream",
     "text": [
      "<class 'int'>\n",
      "<class 'int'> type of 12\n",
      "<class 'int'>\n",
      "<class 'int'> type of 1\n",
      "<class 'float'>\n",
      "<class 'float'> type of 2.3\n",
      "<class 'str'>\n",
      "<class 'str'> type of anil\n",
      "<class 'complex'>\n",
      "<class 'complex'> type of (45+3j)\n"
     ]
    }
   ],
   "source": [
    "i=[12,1,2.3,'anil', 45+3j]\n",
    "for s in i:\n",
    "    print(type (s))\n",
    "    print(type(s),'type of',s)"
   ]
  },
  {
   "cell_type": "code",
   "execution_count": 17,
   "id": "f1046a6e",
   "metadata": {},
   "outputs": [
    {
     "name": "stdout",
     "output_type": "stream",
     "text": [
      "10\n",
      "13\n",
      "14\n",
      "15\n"
     ]
    }
   ],
   "source": [
    "a=[2,5,6,7]\n",
    "a1=[]\n",
    "for i in a:\n",
    "    print(i+8)\n",
    "    a1.append(i+2)"
   ]
  },
  {
   "cell_type": "code",
   "execution_count": null,
   "id": "04083a16",
   "metadata": {},
   "outputs": [],
   "source": []
  },
  {
   "cell_type": "code",
   "execution_count": 18,
   "id": "561cc298",
   "metadata": {},
   "outputs": [
    {
     "data": {
      "text/plain": [
       "[4, 7, 8, 9]"
      ]
     },
     "execution_count": 18,
     "metadata": {},
     "output_type": "execute_result"
    }
   ],
   "source": [
    "a1"
   ]
  },
  {
   "cell_type": "code",
   "execution_count": 45,
   "id": "a24556d1",
   "metadata": {},
   "outputs": [
    {
     "name": "stdout",
     "output_type": "stream",
     "text": [
      "12\n",
      "12\n",
      "45\n",
      "12\n",
      "12\n",
      "45\n",
      "12\n",
      "12\n",
      "45\n",
      "12\n",
      "12\n",
      "45\n",
      "12\n",
      "12\n",
      "45\n",
      "45.23\n"
     ]
    }
   ],
   "source": [
    "i=[12,12,45,'anil',[12,12,5,5],45.23]\n",
    "for a in i:\n",
    "    if type(a)==float:\n",
    "        print(a)\n",
    "    elif type(i)==list:\n",
    "        for j in i:\n",
    "            if type(j)==int:\n",
    "                print(j)"
   ]
  },
  {
   "cell_type": "code",
   "execution_count": null,
   "id": "d17c90df",
   "metadata": {},
   "outputs": [],
   "source": [
    "i=[45,12,56,'anil',45+5j,[2,5,'ghhgh']]\n",
    "try to print index of all element.\n",
    "try to extract all list of char if elemet is string\n",
    "try to return list after square off all the int element"
   ]
  },
  {
   "cell_type": "code",
   "execution_count": 67,
   "id": "d18353e4",
   "metadata": {},
   "outputs": [],
   "source": [
    "i=[45,12,56,'anil',45+5j,[2,5,'ghhgh']]"
   ]
  },
  {
   "cell_type": "code",
   "execution_count": 68,
   "id": "57bbf0bb",
   "metadata": {},
   "outputs": [
    {
     "data": {
      "text/plain": [
       "6"
      ]
     },
     "execution_count": 68,
     "metadata": {},
     "output_type": "execute_result"
    }
   ],
   "source": [
    "len(i)"
   ]
  },
  {
   "cell_type": "code",
   "execution_count": 76,
   "id": "5ac0a862",
   "metadata": {},
   "outputs": [
    {
     "name": "stdout",
     "output_type": "stream",
     "text": [
      "index of 0 for an element 45\n",
      "index of 1 for an element 12\n",
      "index of 2 for an element 56\n",
      "index of 3 for an element anil\n",
      "index of 4 for an element (45+5j)\n",
      "index of 5 for an element [2, 5, 'ghhgh']\n"
     ]
    }
   ],
   "source": [
    "i=[45,12,56,'anil',45+5j,[2,5,'ghhgh']]\n",
    "for a in range(len(i)):\n",
    "    print(\"index of\",a,'for an element', i[a])"
   ]
  },
  {
   "cell_type": "code",
   "execution_count": 80,
   "id": "1c94437b",
   "metadata": {},
   "outputs": [
    {
     "name": "stdout",
     "output_type": "stream",
     "text": [
      "(0, 45)\n",
      "(1, 12)\n",
      "(2, 56)\n",
      "(3, 'anil')\n",
      "(4, (45+5j))\n",
      "(5, [2, 5, 'ghhgh'])\n"
     ]
    }
   ],
   "source": [
    "i=[45,12,56,'anil',45+5j,[2,5,'ghhgh']]\n",
    "\n",
    "for a in enumerate(i):\n",
    "    print(a)"
   ]
  },
  {
   "cell_type": "code",
   "execution_count": 12,
   "id": "d84eb955",
   "metadata": {},
   "outputs": [
    {
     "name": "stdout",
     "output_type": "stream",
     "text": [
      "['a', 'n', 'i', 'l']\n"
     ]
    }
   ],
   "source": [
    "i=[45,12,56,'anil',45+5j,[2,5,'ghhgh']]\n",
    "for a in i:\n",
    "    if type(a)==str:\n",
    "        a2=[]\n",
    "        for j in a:\n",
    "            a2.append(j)\n",
    "        print(a2)"
   ]
  },
  {
   "cell_type": "code",
   "execution_count": 14,
   "id": "8b355c4c",
   "metadata": {},
   "outputs": [
    {
     "name": "stdout",
     "output_type": "stream",
     "text": [
      "[2025]\n",
      "[144]\n",
      "[3136]\n"
     ]
    }
   ],
   "source": [
    "i=[45,12,56,'anil',45+5j,[2,5,'ghhgh']]\n",
    "for a in i:\n",
    "    if type(a)==int:\n",
    "        a2=[]\n",
    "        \n",
    "        a2.append(a**2)\n",
    "        print(a2)"
   ]
  },
  {
   "cell_type": "code",
   "execution_count": null,
   "id": "5c61975f",
   "metadata": {},
   "outputs": [],
   "source": []
  }
 ],
 "metadata": {
  "kernelspec": {
   "display_name": "Python 3",
   "language": "python",
   "name": "python3"
  },
  "language_info": {
   "codemirror_mode": {
    "name": "ipython",
    "version": 3
   },
   "file_extension": ".py",
   "mimetype": "text/x-python",
   "name": "python",
   "nbconvert_exporter": "python",
   "pygments_lexer": "ipython3",
   "version": "3.6.13"
  }
 },
 "nbformat": 4,
 "nbformat_minor": 5
}
