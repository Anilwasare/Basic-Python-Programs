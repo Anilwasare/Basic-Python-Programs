{
 "cells": [
  {
   "cell_type": "code",
   "execution_count": 1,
   "id": "c75d3b02",
   "metadata": {},
   "outputs": [],
   "source": [
    "a=10"
   ]
  },
  {
   "cell_type": "code",
   "execution_count": 3,
   "id": "cd20efa3",
   "metadata": {},
   "outputs": [
    {
     "ename": "SyntaxError",
     "evalue": "unexpected EOF while parsing (<ipython-input-3-0f6a4a22e7cc>, line 3)",
     "output_type": "error",
     "traceback": [
      "\u001b[0;36m  File \u001b[0;32m\"<ipython-input-3-0f6a4a22e7cc>\"\u001b[0;36m, line \u001b[0;32m3\u001b[0m\n\u001b[0;31m    \u001b[0m\n\u001b[0m    ^\u001b[0m\n\u001b[0;31mSyntaxError\u001b[0m\u001b[0;31m:\u001b[0m unexpected EOF while parsing\n"
     ]
    }
   ],
   "source": [
    "if a<15:\n",
    "\n",
    "pass\n"
   ]
  },
  {
   "cell_type": "code",
   "execution_count": 4,
   "id": "03a6fe59",
   "metadata": {},
   "outputs": [
    {
     "data": {
      "text/plain": [
       "True"
      ]
     },
     "execution_count": 4,
     "metadata": {},
     "output_type": "execute_result"
    }
   ],
   "source": [
    "a<15"
   ]
  },
  {
   "cell_type": "code",
   "execution_count": 5,
   "id": "ce0a5729",
   "metadata": {},
   "outputs": [
    {
     "name": "stdout",
     "output_type": "stream",
     "text": [
      "my name is anil\n"
     ]
    }
   ],
   "source": [
    "if a<15:\n",
    "    \n",
    "    print('my name is anil')"
   ]
  },
  {
   "cell_type": "code",
   "execution_count": 6,
   "id": "a7646dd5",
   "metadata": {},
   "outputs": [
    {
     "data": {
      "text/plain": [
       "True"
      ]
     },
     "execution_count": 6,
     "metadata": {},
     "output_type": "execute_result"
    }
   ],
   "source": [
    "a<15"
   ]
  },
  {
   "cell_type": "code",
   "execution_count": 10,
   "id": "1ad5cede",
   "metadata": {},
   "outputs": [],
   "source": [
    "if 24<15:\n",
    "    \n",
    "    print('my name is anil')"
   ]
  },
  {
   "cell_type": "code",
   "execution_count": 18,
   "id": "5e596e09",
   "metadata": {},
   "outputs": [],
   "source": [
    "if 24<10:\n",
    "    \n",
    "    print(\"my name is anil\")"
   ]
  },
  {
   "cell_type": "code",
   "execution_count": null,
   "id": "fc79049d",
   "metadata": {},
   "outputs": [],
   "source": []
  },
  {
   "cell_type": "code",
   "execution_count": 31,
   "id": "04830067",
   "metadata": {},
   "outputs": [
    {
     "name": "stdout",
     "output_type": "stream",
     "text": [
      "my name is anil\n"
     ]
    }
   ],
   "source": [
    "if a<15:\n",
    "     print(\"my name is anil\")"
   ]
  },
  {
   "cell_type": "code",
   "execution_count": 32,
   "id": "f4ecc3c8",
   "metadata": {},
   "outputs": [
    {
     "name": "stdout",
     "output_type": "stream",
     "text": [
      "anil\n"
     ]
    }
   ],
   "source": [
    "if 3<15:\n",
    "    print('anil')"
   ]
  },
  {
   "cell_type": "code",
   "execution_count": 37,
   "id": "093ca3e9",
   "metadata": {},
   "outputs": [
    {
     "name": "stdout",
     "output_type": "stream",
     "text": [
      "wrong statement\n"
     ]
    }
   ],
   "source": [
    "if 11<10:\n",
    "    print(\"24 is lesser than 10\")\n",
    "else:\n",
    "        print(\"wrong statement\")\n",
    "    "
   ]
  },
  {
   "cell_type": "code",
   "execution_count": 38,
   "id": "aa629009",
   "metadata": {},
   "outputs": [],
   "source": [
    "income=100"
   ]
  },
  {
   "cell_type": "code",
   "execution_count": 53,
   "id": "a953ef35",
   "metadata": {},
   "outputs": [
    {
     "name": "stdout",
     "output_type": "stream",
     "text": [
      "70\n",
      "i will be  able to buy car\n"
     ]
    }
   ],
   "source": [
    "income=int(input())\n",
    "if income<50:\n",
    "         print(\"i will be able to phone\")\n",
    "elif income<70:\n",
    "           print('i will be able to buy home')\n",
    "elif income<90:\n",
    "            print('i will be  able to buy car')\n",
    "else:\n",
    "    print('i will not be able to buy anything')"
   ]
  },
  {
   "cell_type": "code",
   "execution_count": 84,
   "id": "d755784e",
   "metadata": {},
   "outputs": [
    {
     "name": "stdout",
     "output_type": "stream",
     "text": [
      "5000\n",
      "discount will be 250.0\n"
     ]
    }
   ],
   "source": [
    "total_price=int(input())\n",
    "if total_price>25000:\n",
    "    discount=total_price*.20\n",
    "    print(\"discount will be\", discount)\n",
    "elif total_price<=7000:\n",
    "    discount=total_price*.05\n",
    "    print(\"discount will be\",discount)\n",
    "else:\n",
    "    print(\"you won't get any discount\")"
   ]
  },
  {
   "cell_type": "code",
   "execution_count": 120,
   "id": "aed876d3",
   "metadata": {},
   "outputs": [
    {
     "name": "stdout",
     "output_type": "stream",
     "text": [
      "anil5\n",
      "you wil be able to' get discount of 5%\n",
      "you will be able to get one neuron course 6650.0\n"
     ]
    }
   ],
   "source": [
    "coup=input()\n",
    "if coup== \"anil5\":\n",
    "    print(\"you wil be able to' get discount of 5%\")\n",
    "    paid_amount=7000-7000*0.05\n",
    "    print(\"you will be able to get one neuron course\", paid_amount)\n",
    "else:\n",
    "    print(\"invalid coupon\")"
   ]
  },
  {
   "cell_type": "code",
   "execution_count": 118,
   "id": "962d824a",
   "metadata": {},
   "outputs": [
    {
     "data": {
      "text/plain": [
       "\"anil=='anil'\""
      ]
     },
     "execution_count": 118,
     "metadata": {},
     "output_type": "execute_result"
    }
   ],
   "source": [
    "\"anil=='anil'\""
   ]
  },
  {
   "cell_type": "code",
   "execution_count": 128,
   "id": "a275578e",
   "metadata": {
    "scrolled": true
   },
   "outputs": [
    {
     "name": "stdout",
     "output_type": "stream",
     "text": [
      "6\n",
      "it will take 5 months to of time to complete this course\n"
     ]
    }
   ],
   "source": [
    "study_hours=int(input())\n",
    "if study_hours<5:\n",
    "    print(\"you may take 8-9 month of time to complete this coure\")\n",
    "elif study_hours>5:\n",
    "        print(\"it will take 5 months to of time to complete this course\")"
   ]
  },
  {
   "cell_type": "code",
   "execution_count": null,
   "id": "0d4eda54",
   "metadata": {},
   "outputs": [],
   "source": [
    "s"
   ]
  },
  {
   "cell_type": "code",
   "execution_count": 133,
   "id": "12d0118a",
   "metadata": {},
   "outputs": [
    {
     "name": "stdout",
     "output_type": "stream",
     "text": [
      "valid\n"
     ]
    }
   ],
   "source": [
    "a=9\n",
    "if a==9:\n",
    "    print(\"valid\")"
   ]
  },
  {
   "cell_type": "code",
   "execution_count": 140,
   "id": "c74f5147",
   "metadata": {},
   "outputs": [
    {
     "name": "stdout",
     "output_type": "stream",
     "text": [
      "java\n",
      "please enter valid course name\n"
     ]
    }
   ],
   "source": [
    "course=input()\n",
    "s==\"oneneuron\"\n",
    "if course==\"DSA\":\n",
    "    print(\" this course is available\")\n",
    "elif course==\"blockchain\":\n",
    "  print(\"this course is not available as now\")\n",
    "else:\n",
    "    print('please enter valid course name')"
   ]
  },
  {
   "cell_type": "code",
   "execution_count": null,
   "id": "ba568481",
   "metadata": {},
   "outputs": [],
   "source": []
  }
 ],
 "metadata": {
  "kernelspec": {
   "display_name": "Python 3",
   "language": "python",
   "name": "python3"
  },
  "language_info": {
   "codemirror_mode": {
    "name": "ipython",
    "version": 3
   },
   "file_extension": ".py",
   "mimetype": "text/x-python",
   "name": "python",
   "nbconvert_exporter": "python",
   "pygments_lexer": "ipython3",
   "version": "3.6.15"
  }
 },
 "nbformat": 4,
 "nbformat_minor": 5
}
